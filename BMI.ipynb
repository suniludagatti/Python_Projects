{
 "cells": [
  {
   "cell_type": "code",
   "execution_count": 1,
   "id": "7a1c8cc9-f4f1-465f-b079-27eb72ff9c39",
   "metadata": {},
   "outputs": [
    {
     "name": "stdout",
     "output_type": "stream",
     "text": [
      "Welcome to BMI\n"
     ]
    },
    {
     "name": "stdin",
     "output_type": "stream",
     "text": [
      "Enter your name:  Sunil\n",
      "Weight in kg:  71.9\n",
      "Height in meters:  1.69\n"
     ]
    },
    {
     "name": "stdout",
     "output_type": "stream",
     "text": [
      "25.174188578831277\n",
      "Sunil, you are Overweight.\n"
     ]
    }
   ],
   "source": [
    "print (\"Welcome to BMI\")\n",
    "name = input (\"Enter your name: \")\n",
    "x = float(input('Weight in kg: '))\n",
    "y = float(input ('Height in meters: '))\n",
    "BMI = (x)/(y*y)\n",
    "print(BMI)\n",
    "if BMI> 0 :\n",
    "    if (BMI < 18.5) :\n",
    "        print(name +'Underweight.')\n",
    "    elif (BMI < 24.9):\n",
    "        print(name +', you are Normal weight.')\n",
    "    elif (BMI < 29.9):\n",
    "        print(name + ', you are Overweight.')\n",
    "    elif (BMI < 34.9):\n",
    "        print(name +',you are Obese.')\n",
    "    elif (BMI < 39.9):\n",
    "        print(name+',Severly obese.')\n",
    "    else:\n",
    "        print('Danger.')"
   ]
  },
  {
   "cell_type": "code",
   "execution_count": null,
   "id": "e04bcdd8-e9c3-4d87-820b-90357ab2a795",
   "metadata": {},
   "outputs": [],
   "source": []
  },
  {
   "cell_type": "code",
   "execution_count": null,
   "id": "7d954cb7-fb89-432e-93e0-d034de566f1d",
   "metadata": {},
   "outputs": [],
   "source": []
  },
  {
   "cell_type": "code",
   "execution_count": null,
   "id": "e16c1867-da72-4397-add2-cd81385f2cee",
   "metadata": {},
   "outputs": [],
   "source": []
  },
  {
   "cell_type": "code",
   "execution_count": null,
   "id": "7a8acb41-bad2-4fcf-beec-ce6e7aa4c95f",
   "metadata": {},
   "outputs": [],
   "source": []
  }
 ],
 "metadata": {
  "kernelspec": {
   "display_name": "Python 3 (ipykernel)",
   "language": "python",
   "name": "python3"
  },
  "language_info": {
   "codemirror_mode": {
    "name": "ipython",
    "version": 3
   },
   "file_extension": ".py",
   "mimetype": "text/x-python",
   "name": "python",
   "nbconvert_exporter": "python",
   "pygments_lexer": "ipython3",
   "version": "3.11.7"
  }
 },
 "nbformat": 4,
 "nbformat_minor": 5
}
